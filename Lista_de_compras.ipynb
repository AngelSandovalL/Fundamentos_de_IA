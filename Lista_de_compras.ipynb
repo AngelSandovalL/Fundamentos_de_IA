{
 "cells": [
  {
   "cell_type": "code",
   "execution_count": 1,
   "id": "2465d38c",
   "metadata": {},
   "outputs": [
    {
     "name": "stdout",
     "output_type": "stream",
     "text": [
      "Lista de productos creada.\n"
     ]
    }
   ],
   "source": [
    "productos = []\n",
    "print(\"Lista de productos creada.\")"
   ]
  },
  {
   "cell_type": "code",
   "execution_count": 2,
   "id": "35baaa35",
   "metadata": {},
   "outputs": [
    {
     "name": "stdout",
     "output_type": "stream",
     "text": [
      "Introduce los datos de los 3 productos\n",
      "--------------------\n",
      "Los 3 productos han sido registrados exitosamente.\n",
      "--------------------\n",
      "Los 3 productos han sido registrados exitosamente.\n",
      "--------------------\n",
      "Los 3 productos han sido registrados exitosamente.\n"
     ]
    }
   ],
   "source": [
    "print(\"Introduce los datos de los 3 productos\")\n",
    "for i in range(3):\n",
    "    nombre = input(f\"Introduce el nombre del producto #{i+1}: \")\n",
    "    \n",
    "    while True:\n",
    "        try:\n",
    "            precio = float(input(f\"Introduce el precio de '{nombre}': $\"))\n",
    "            break\n",
    "        except ValueError:\n",
    "            print(\"Error: Por favor imprime un precio valido (solo números).\")\n",
    "\n",
    "    producto = {\"nombre\": nombre, \"precio\": precio}\n",
    "    productos.append(producto)\n",
    "    print(\"-\"*20)\n",
    "    print(\"Los 3 productos han sido registrados exitosamente.\")"
   ]
  },
  {
   "cell_type": "code",
   "execution_count": 3,
   "id": "579a53fd",
   "metadata": {},
   "outputs": [
    {
     "name": "stdout",
     "output_type": "stream",
     "text": [
      "[{'nombre': 'Leche', 'precio': 58.0}, {'nombre': 'Huevo 15', 'precio': 89.0}, {'nombre': 'Agua', 'precio': 59.0}]\n"
     ]
    }
   ],
   "source": [
    "print(productos)"
   ]
  },
  {
   "cell_type": "code",
   "execution_count": 4,
   "id": "a923a8c1",
   "metadata": {},
   "outputs": [
    {
     "name": "stdout",
     "output_type": "stream",
     "text": [
      "\n",
      " RESUMEN DE LA COMPRA \n",
      "Productos registrados:\n",
      " Leche: $ 58.00\n",
      " Huevo 15: $ 89.00\n",
      " Agua: $ 59.00\n",
      "Total a pagar: $ 206.00\n"
     ]
    }
   ],
   "source": [
    "total = 0\n",
    "for producto in productos:\n",
    "    total += producto[\"precio\"]\n",
    "print(\"\\n RESUMEN DE LA COMPRA \")\n",
    "print(\"Productos registrados:\")\n",
    "\n",
    "for producto in productos:\n",
    "    print(f\" {producto['nombre']}: ${producto['precio']: .2f}\")\n",
    "\n",
    "print(f\"Total a pagar: ${total: .2f}\")"
   ]
  }
 ],
 "metadata": {
  "kernelspec": {
   "display_name": "guayerd",
   "language": "python",
   "name": "python3"
  },
  "language_info": {
   "codemirror_mode": {
    "name": "ipython",
    "version": 3
   },
   "file_extension": ".py",
   "mimetype": "text/x-python",
   "name": "python",
   "nbconvert_exporter": "python",
   "pygments_lexer": "ipython3",
   "version": "3.13.7"
  }
 },
 "nbformat": 4,
 "nbformat_minor": 5
}
